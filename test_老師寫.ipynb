{
 "cells": [
  {
   "cell_type": "code",
   "execution_count": 1,
   "metadata": {},
   "outputs": [],
   "source": [
    "import requests"
   ]
  },
  {
   "cell_type": "code",
   "execution_count": 2,
   "metadata": {},
   "outputs": [],
   "source": [
    "url='https://data.epa.gov.tw/api/v2/aqx_p_02?api_key=e8dd42e6-9b8b-43f8-991e-b3dee723a52d&limit=1000&sort=datacreationdate%20desc&format=JSON'"
   ]
  },
  {
   "cell_type": "code",
   "execution_count": 3,
   "metadata": {},
   "outputs": [
    {
     "data": {
      "text/plain": [
       "<Response [200]>"
      ]
     },
     "execution_count": 3,
     "metadata": {},
     "output_type": "execute_result"
    }
   ],
   "source": [
    "resp=requests.get(url)\n",
    "resp\n"
   ]
  },
  {
   "cell_type": "markdown",
   "metadata": {},
   "source": [
    "### 取得資料所在位置"
   ]
  },
  {
   "cell_type": "code",
   "execution_count": 4,
   "metadata": {},
   "outputs": [
    {
     "data": {
      "text/plain": [
       "[{'site': '大城',\n",
       "  'county': '彰化縣',\n",
       "  'pm25': '11',\n",
       "  'datacreationdate': '2023-05-04 12:00',\n",
       "  'itemunit': 'μg/m3'},\n",
       " {'site': '富貴角',\n",
       "  'county': '新北市',\n",
       "  'pm25': '18',\n",
       "  'datacreationdate': '2023-05-04 12:00',\n",
       "  'itemunit': 'μg/m3'},\n",
       " {'site': '麥寮',\n",
       "  'county': '雲林縣',\n",
       "  'pm25': '8',\n",
       "  'datacreationdate': '2023-05-04 12:00',\n",
       "  'itemunit': 'μg/m3'},\n",
       " {'site': '關山',\n",
       "  'county': '臺東縣',\n",
       "  'pm25': '3',\n",
       "  'datacreationdate': '2023-05-04 12:00',\n",
       "  'itemunit': 'μg/m3'},\n",
       " {'site': '馬公',\n",
       "  'county': '澎湖縣',\n",
       "  'pm25': '9',\n",
       "  'datacreationdate': '2023-05-04 12:00',\n",
       "  'itemunit': 'μg/m3'},\n",
       " {'site': '金門',\n",
       "  'county': '金門縣',\n",
       "  'pm25': '8',\n",
       "  'datacreationdate': '2023-05-04 12:00',\n",
       "  'itemunit': 'μg/m3'},\n",
       " {'site': '馬祖',\n",
       "  'county': '連江縣',\n",
       "  'pm25': '14',\n",
       "  'datacreationdate': '2023-05-04 12:00',\n",
       "  'itemunit': 'μg/m3'},\n",
       " {'site': '埔里',\n",
       "  'county': '南投縣',\n",
       "  'pm25': '17',\n",
       "  'datacreationdate': '2023-05-04 12:00',\n",
       "  'itemunit': 'μg/m3'},\n",
       " {'site': '復興',\n",
       "  'county': '高雄市',\n",
       "  'pm25': '14',\n",
       "  'datacreationdate': '2023-05-04 12:00',\n",
       "  'itemunit': 'μg/m3'},\n",
       " {'site': '永和',\n",
       "  'county': '新北市',\n",
       "  'pm25': '41',\n",
       "  'datacreationdate': '2023-05-04 12:00',\n",
       "  'itemunit': 'μg/m3'},\n",
       " {'site': '竹山',\n",
       "  'county': '南投縣',\n",
       "  'pm25': '32',\n",
       "  'datacreationdate': '2023-05-04 12:00',\n",
       "  'itemunit': 'μg/m3'},\n",
       " {'site': '中壢',\n",
       "  'county': '桃園市',\n",
       "  'pm25': '19',\n",
       "  'datacreationdate': '2023-05-04 12:00',\n",
       "  'itemunit': 'μg/m3'},\n",
       " {'site': '三重',\n",
       "  'county': '新北市',\n",
       "  'pm25': '26',\n",
       "  'datacreationdate': '2023-05-04 12:00',\n",
       "  'itemunit': 'μg/m3'},\n",
       " {'site': '冬山',\n",
       "  'county': '宜蘭縣',\n",
       "  'pm25': '6',\n",
       "  'datacreationdate': '2023-05-04 12:00',\n",
       "  'itemunit': 'μg/m3'},\n",
       " {'site': '宜蘭',\n",
       "  'county': '宜蘭縣',\n",
       "  'pm25': '9',\n",
       "  'datacreationdate': '2023-05-04 12:00',\n",
       "  'itemunit': 'μg/m3'},\n",
       " {'site': '陽明',\n",
       "  'county': '臺北市',\n",
       "  'pm25': '12',\n",
       "  'datacreationdate': '2023-05-04 12:00',\n",
       "  'itemunit': 'μg/m3'},\n",
       " {'site': '花蓮',\n",
       "  'county': '花蓮縣',\n",
       "  'pm25': '7',\n",
       "  'datacreationdate': '2023-05-04 12:00',\n",
       "  'itemunit': 'μg/m3'},\n",
       " {'site': '臺東',\n",
       "  'county': '臺東縣',\n",
       "  'pm25': '4',\n",
       "  'datacreationdate': '2023-05-04 12:00',\n",
       "  'itemunit': 'μg/m3'},\n",
       " {'site': '恆春',\n",
       "  'county': '屏東縣',\n",
       "  'pm25': '4',\n",
       "  'datacreationdate': '2023-05-04 12:00',\n",
       "  'itemunit': 'μg/m3'},\n",
       " {'site': '潮州',\n",
       "  'county': '屏東縣',\n",
       "  'pm25': '8',\n",
       "  'datacreationdate': '2023-05-04 12:00',\n",
       "  'itemunit': 'μg/m3'},\n",
       " {'site': '屏東',\n",
       "  'county': '屏東縣',\n",
       "  'pm25': '15',\n",
       "  'datacreationdate': '2023-05-04 12:00',\n",
       "  'itemunit': 'μg/m3'},\n",
       " {'site': '小港',\n",
       "  'county': '高雄市',\n",
       "  'pm25': '23',\n",
       "  'datacreationdate': '2023-05-04 12:00',\n",
       "  'itemunit': 'μg/m3'},\n",
       " {'site': '前鎮',\n",
       "  'county': '高雄市',\n",
       "  'pm25': '',\n",
       "  'datacreationdate': '2023-05-04 12:00',\n",
       "  'itemunit': 'μg/m3'},\n",
       " {'site': '前金',\n",
       "  'county': '高雄市',\n",
       "  'pm25': '13',\n",
       "  'datacreationdate': '2023-05-04 12:00',\n",
       "  'itemunit': 'μg/m3'},\n",
       " {'site': '左營',\n",
       "  'county': '高雄市',\n",
       "  'pm25': '13',\n",
       "  'datacreationdate': '2023-05-04 12:00',\n",
       "  'itemunit': 'μg/m3'},\n",
       " {'site': '楠梓',\n",
       "  'county': '高雄市',\n",
       "  'pm25': '20',\n",
       "  'datacreationdate': '2023-05-04 12:00',\n",
       "  'itemunit': 'μg/m3'},\n",
       " {'site': '林園',\n",
       "  'county': '高雄市',\n",
       "  'pm25': '15',\n",
       "  'datacreationdate': '2023-05-04 12:00',\n",
       "  'itemunit': 'μg/m3'},\n",
       " {'site': '大寮',\n",
       "  'county': '高雄市',\n",
       "  'pm25': '20',\n",
       "  'datacreationdate': '2023-05-04 12:00',\n",
       "  'itemunit': 'μg/m3'},\n",
       " {'site': '鳳山',\n",
       "  'county': '高雄市',\n",
       "  'pm25': '11',\n",
       "  'datacreationdate': '2023-05-04 12:00',\n",
       "  'itemunit': 'μg/m3'},\n",
       " {'site': '仁武',\n",
       "  'county': '高雄市',\n",
       "  'pm25': '14',\n",
       "  'datacreationdate': '2023-05-04 12:00',\n",
       "  'itemunit': 'μg/m3'},\n",
       " {'site': '橋頭',\n",
       "  'county': '高雄市',\n",
       "  'pm25': '19',\n",
       "  'datacreationdate': '2023-05-04 12:00',\n",
       "  'itemunit': 'μg/m3'},\n",
       " {'site': '美濃',\n",
       "  'county': '高雄市',\n",
       "  'pm25': '11',\n",
       "  'datacreationdate': '2023-05-04 12:00',\n",
       "  'itemunit': 'μg/m3'},\n",
       " {'site': '臺南',\n",
       "  'county': '臺南市',\n",
       "  'pm25': '19',\n",
       "  'datacreationdate': '2023-05-04 12:00',\n",
       "  'itemunit': 'μg/m3'},\n",
       " {'site': '安南',\n",
       "  'county': '臺南市',\n",
       "  'pm25': '25',\n",
       "  'datacreationdate': '2023-05-04 12:00',\n",
       "  'itemunit': 'μg/m3'},\n",
       " {'site': '善化',\n",
       "  'county': '臺南市',\n",
       "  'pm25': '14',\n",
       "  'datacreationdate': '2023-05-04 12:00',\n",
       "  'itemunit': 'μg/m3'},\n",
       " {'site': '新營',\n",
       "  'county': '臺南市',\n",
       "  'pm25': '28',\n",
       "  'datacreationdate': '2023-05-04 12:00',\n",
       "  'itemunit': 'μg/m3'},\n",
       " {'site': '嘉義',\n",
       "  'county': '嘉義市',\n",
       "  'pm25': '28',\n",
       "  'datacreationdate': '2023-05-04 12:00',\n",
       "  'itemunit': 'μg/m3'},\n",
       " {'site': '臺西',\n",
       "  'county': '雲林縣',\n",
       "  'pm25': '13',\n",
       "  'datacreationdate': '2023-05-04 12:00',\n",
       "  'itemunit': 'μg/m3'},\n",
       " {'site': '朴子',\n",
       "  'county': '嘉義縣',\n",
       "  'pm25': '24',\n",
       "  'datacreationdate': '2023-05-04 12:00',\n",
       "  'itemunit': 'μg/m3'},\n",
       " {'site': '新港',\n",
       "  'county': '嘉義縣',\n",
       "  'pm25': '24',\n",
       "  'datacreationdate': '2023-05-04 12:00',\n",
       "  'itemunit': 'μg/m3'},\n",
       " {'site': '崙背',\n",
       "  'county': '雲林縣',\n",
       "  'pm25': '21',\n",
       "  'datacreationdate': '2023-05-04 12:00',\n",
       "  'itemunit': 'μg/m3'},\n",
       " {'site': '斗六',\n",
       "  'county': '雲林縣',\n",
       "  'pm25': '37',\n",
       "  'datacreationdate': '2023-05-04 12:00',\n",
       "  'itemunit': 'μg/m3'},\n",
       " {'site': '南投',\n",
       "  'county': '南投縣',\n",
       "  'pm25': '30',\n",
       "  'datacreationdate': '2023-05-04 12:00',\n",
       "  'itemunit': 'μg/m3'},\n",
       " {'site': '二林',\n",
       "  'county': '彰化縣',\n",
       "  'pm25': '13',\n",
       "  'datacreationdate': '2023-05-04 12:00',\n",
       "  'itemunit': 'μg/m3'},\n",
       " {'site': '線西',\n",
       "  'county': '彰化縣',\n",
       "  'pm25': '18',\n",
       "  'datacreationdate': '2023-05-04 12:00',\n",
       "  'itemunit': 'μg/m3'},\n",
       " {'site': '彰化',\n",
       "  'county': '彰化縣',\n",
       "  'pm25': '23',\n",
       "  'datacreationdate': '2023-05-04 12:00',\n",
       "  'itemunit': 'μg/m3'},\n",
       " {'site': '西屯',\n",
       "  'county': '臺中市',\n",
       "  'pm25': '29',\n",
       "  'datacreationdate': '2023-05-04 12:00',\n",
       "  'itemunit': 'μg/m3'},\n",
       " {'site': '忠明',\n",
       "  'county': '臺中市',\n",
       "  'pm25': '46',\n",
       "  'datacreationdate': '2023-05-04 12:00',\n",
       "  'itemunit': 'μg/m3'},\n",
       " {'site': '大里',\n",
       "  'county': '臺中市',\n",
       "  'pm25': '38',\n",
       "  'datacreationdate': '2023-05-04 12:00',\n",
       "  'itemunit': 'μg/m3'},\n",
       " {'site': '沙鹿',\n",
       "  'county': '臺中市',\n",
       "  'pm25': '15',\n",
       "  'datacreationdate': '2023-05-04 12:00',\n",
       "  'itemunit': 'μg/m3'},\n",
       " {'site': '豐原',\n",
       "  'county': '臺中市',\n",
       "  'pm25': '31',\n",
       "  'datacreationdate': '2023-05-04 12:00',\n",
       "  'itemunit': 'μg/m3'},\n",
       " {'site': '三義',\n",
       "  'county': '苗栗縣',\n",
       "  'pm25': '18',\n",
       "  'datacreationdate': '2023-05-04 12:00',\n",
       "  'itemunit': 'μg/m3'},\n",
       " {'site': '苗栗',\n",
       "  'county': '苗栗縣',\n",
       "  'pm25': '9',\n",
       "  'datacreationdate': '2023-05-04 12:00',\n",
       "  'itemunit': 'μg/m3'},\n",
       " {'site': '頭份',\n",
       "  'county': '苗栗縣',\n",
       "  'pm25': '14',\n",
       "  'datacreationdate': '2023-05-04 12:00',\n",
       "  'itemunit': 'μg/m3'},\n",
       " {'site': '新竹',\n",
       "  'county': '新竹市',\n",
       "  'pm25': '9',\n",
       "  'datacreationdate': '2023-05-04 12:00',\n",
       "  'itemunit': 'μg/m3'},\n",
       " {'site': '竹東',\n",
       "  'county': '新竹縣',\n",
       "  'pm25': '22',\n",
       "  'datacreationdate': '2023-05-04 12:00',\n",
       "  'itemunit': 'μg/m3'},\n",
       " {'site': '湖口',\n",
       "  'county': '新竹縣',\n",
       "  'pm25': '11',\n",
       "  'datacreationdate': '2023-05-04 12:00',\n",
       "  'itemunit': 'μg/m3'},\n",
       " {'site': '龍潭',\n",
       "  'county': '桃園市',\n",
       "  'pm25': '21',\n",
       "  'datacreationdate': '2023-05-04 12:00',\n",
       "  'itemunit': 'μg/m3'},\n",
       " {'site': '平鎮',\n",
       "  'county': '桃園市',\n",
       "  'pm25': '13',\n",
       "  'datacreationdate': '2023-05-04 12:00',\n",
       "  'itemunit': 'μg/m3'},\n",
       " {'site': '觀音',\n",
       "  'county': '桃園市',\n",
       "  'pm25': '14',\n",
       "  'datacreationdate': '2023-05-04 12:00',\n",
       "  'itemunit': 'μg/m3'},\n",
       " {'site': '大園',\n",
       "  'county': '桃園市',\n",
       "  'pm25': '',\n",
       "  'datacreationdate': '2023-05-04 12:00',\n",
       "  'itemunit': 'μg/m3'},\n",
       " {'site': '桃園',\n",
       "  'county': '桃園市',\n",
       "  'pm25': '21',\n",
       "  'datacreationdate': '2023-05-04 12:00',\n",
       "  'itemunit': 'μg/m3'},\n",
       " {'site': '大同',\n",
       "  'county': '臺北市',\n",
       "  'pm25': '31',\n",
       "  'datacreationdate': '2023-05-04 12:00',\n",
       "  'itemunit': 'μg/m3'},\n",
       " {'site': '松山',\n",
       "  'county': '臺北市',\n",
       "  'pm25': '30',\n",
       "  'datacreationdate': '2023-05-04 12:00',\n",
       "  'itemunit': 'μg/m3'},\n",
       " {'site': '古亭',\n",
       "  'county': '臺北市',\n",
       "  'pm25': '45',\n",
       "  'datacreationdate': '2023-05-04 12:00',\n",
       "  'itemunit': 'μg/m3'},\n",
       " {'site': '萬華',\n",
       "  'county': '臺北市',\n",
       "  'pm25': '40',\n",
       "  'datacreationdate': '2023-05-04 12:00',\n",
       "  'itemunit': 'μg/m3'},\n",
       " {'site': '中山',\n",
       "  'county': '臺北市',\n",
       "  'pm25': '42',\n",
       "  'datacreationdate': '2023-05-04 12:00',\n",
       "  'itemunit': 'μg/m3'},\n",
       " {'site': '士林',\n",
       "  'county': '臺北市',\n",
       "  'pm25': '25',\n",
       "  'datacreationdate': '2023-05-04 12:00',\n",
       "  'itemunit': 'μg/m3'},\n",
       " {'site': '淡水',\n",
       "  'county': '新北市',\n",
       "  'pm25': '12',\n",
       "  'datacreationdate': '2023-05-04 12:00',\n",
       "  'itemunit': 'μg/m3'},\n",
       " {'site': '林口',\n",
       "  'county': '新北市',\n",
       "  'pm25': '13',\n",
       "  'datacreationdate': '2023-05-04 12:00',\n",
       "  'itemunit': 'μg/m3'},\n",
       " {'site': '菜寮',\n",
       "  'county': '新北市',\n",
       "  'pm25': '28',\n",
       "  'datacreationdate': '2023-05-04 12:00',\n",
       "  'itemunit': 'μg/m3'},\n",
       " {'site': '新莊',\n",
       "  'county': '新北市',\n",
       "  'pm25': '23',\n",
       "  'datacreationdate': '2023-05-04 12:00',\n",
       "  'itemunit': 'μg/m3'},\n",
       " {'site': '板橋',\n",
       "  'county': '新北市',\n",
       "  'pm25': '39',\n",
       "  'datacreationdate': '2023-05-04 12:00',\n",
       "  'itemunit': 'μg/m3'},\n",
       " {'site': '土城',\n",
       "  'county': '新北市',\n",
       "  'pm25': '32',\n",
       "  'datacreationdate': '2023-05-04 12:00',\n",
       "  'itemunit': 'μg/m3'},\n",
       " {'site': '新店',\n",
       "  'county': '新北市',\n",
       "  'pm25': '36',\n",
       "  'datacreationdate': '2023-05-04 12:00',\n",
       "  'itemunit': 'μg/m3'},\n",
       " {'site': '萬里',\n",
       "  'county': '新北市',\n",
       "  'pm25': '15',\n",
       "  'datacreationdate': '2023-05-04 12:00',\n",
       "  'itemunit': 'μg/m3'},\n",
       " {'site': '汐止',\n",
       "  'county': '新北市',\n",
       "  'pm25': '',\n",
       "  'datacreationdate': '2023-05-04 12:00',\n",
       "  'itemunit': 'μg/m3'},\n",
       " {'site': '基隆',\n",
       "  'county': '基隆市',\n",
       "  'pm25': '29',\n",
       "  'datacreationdate': '2023-05-04 12:00',\n",
       "  'itemunit': 'μg/m3'}]"
      ]
     },
     "execution_count": 4,
     "metadata": {},
     "output_type": "execute_result"
    }
   ],
   "source": [
    "datas=resp.json()['records']\n",
    "datas\n"
   ]
  },
  {
   "cell_type": "code",
   "execution_count": 5,
   "metadata": {},
   "outputs": [
    {
     "data": {
      "text/plain": [
       "78"
      ]
     },
     "execution_count": 5,
     "metadata": {},
     "output_type": "execute_result"
    }
   ],
   "source": [
    "len(datas)"
   ]
  },
  {
   "cell_type": "code",
   "execution_count": 6,
   "metadata": {},
   "outputs": [
    {
     "data": {
      "text/plain": [
       "{'site': '大城',\n",
       " 'county': '彰化縣',\n",
       " 'pm25': '11',\n",
       " 'datacreationdate': '2023-05-04 12:00',\n",
       " 'itemunit': 'μg/m3'}"
      ]
     },
     "execution_count": 6,
     "metadata": {},
     "output_type": "execute_result"
    }
   ],
   "source": [
    "datas[0]"
   ]
  },
  {
   "cell_type": "markdown",
   "metadata": {},
   "source": [
    "### 建立資料庫  \n",
    "- 1.創建資料庫\n",
    "- 2.建立資料表\n",
    "- 3.寫入不重複資料\n",
    "- 4.取最新數據"
   ]
  },
  {
   "cell_type": "code",
   "execution_count": 7,
   "metadata": {},
   "outputs": [],
   "source": [
    "import sqlite3"
   ]
  },
  {
   "cell_type": "code",
   "execution_count": 8,
   "metadata": {},
   "outputs": [
    {
     "data": {
      "text/plain": [
       "(<sqlite3.Connection at 0x23288b5ae40>, <sqlite3.Cursor at 0x23288bad420>)"
      ]
     },
     "execution_count": 8,
     "metadata": {},
     "output_type": "execute_result"
    }
   ],
   "source": [
    "conn=sqlite3.connect('pm25.db')\n",
    "cursor=conn.cursor()\n",
    "\n",
    "conn,cursor"
   ]
  },
  {
   "cell_type": "code",
   "execution_count": 9,
   "metadata": {},
   "outputs": [
    {
     "data": {
      "text/plain": [
       "dict_keys(['site', 'county', 'pm25', 'datacreationdate', 'itemunit'])"
      ]
     },
     "execution_count": 9,
     "metadata": {},
     "output_type": "execute_result"
    }
   ],
   "source": [
    "datas[0].keys()"
   ]
  },
  {
   "cell_type": "code",
   "execution_count": 10,
   "metadata": {},
   "outputs": [],
   "source": [
    "sqlstr='''\n",
    "create table if not exists data(\n",
    "id integer primary key autoincrement,\n",
    "site text,\n",
    "county text,\n",
    "pm25 integer,\n",
    "datacreationdate datetime,\n",
    "itemunit text\n",
    ")\n",
    "\n",
    "'''\n",
    "cursor.execute(sqlstr)\n",
    "conn.commit()"
   ]
  },
  {
   "cell_type": "markdown",
   "metadata": {},
   "source": [
    "### 檢查資料是否存在"
   ]
  },
  {
   "cell_type": "code",
   "execution_count": 11,
   "metadata": {},
   "outputs": [
    {
     "name": "stdout",
     "output_type": "stream",
     "text": [
      "unexpected EOF while parsing (<string>, line 0)\n",
      "unexpected EOF while parsing (<string>, line 0)\n",
      "unexpected EOF while parsing (<string>, line 0)\n"
     ]
    },
    {
     "data": {
      "text/plain": [
       "[['大城', '彰化縣', 11, '2023-05-04 12:00', 'μg/m3'],\n",
       " ['富貴角', '新北市', 18, '2023-05-04 12:00', 'μg/m3'],\n",
       " ['麥寮', '雲林縣', 8, '2023-05-04 12:00', 'μg/m3'],\n",
       " ['關山', '臺東縣', 3, '2023-05-04 12:00', 'μg/m3'],\n",
       " ['馬公', '澎湖縣', 9, '2023-05-04 12:00', 'μg/m3'],\n",
       " ['金門', '金門縣', 8, '2023-05-04 12:00', 'μg/m3'],\n",
       " ['馬祖', '連江縣', 14, '2023-05-04 12:00', 'μg/m3'],\n",
       " ['埔里', '南投縣', 17, '2023-05-04 12:00', 'μg/m3'],\n",
       " ['復興', '高雄市', 14, '2023-05-04 12:00', 'μg/m3'],\n",
       " ['永和', '新北市', 41, '2023-05-04 12:00', 'μg/m3'],\n",
       " ['竹山', '南投縣', 32, '2023-05-04 12:00', 'μg/m3'],\n",
       " ['中壢', '桃園市', 19, '2023-05-04 12:00', 'μg/m3'],\n",
       " ['三重', '新北市', 26, '2023-05-04 12:00', 'μg/m3'],\n",
       " ['冬山', '宜蘭縣', 6, '2023-05-04 12:00', 'μg/m3'],\n",
       " ['宜蘭', '宜蘭縣', 9, '2023-05-04 12:00', 'μg/m3'],\n",
       " ['陽明', '臺北市', 12, '2023-05-04 12:00', 'μg/m3'],\n",
       " ['花蓮', '花蓮縣', 7, '2023-05-04 12:00', 'μg/m3'],\n",
       " ['臺東', '臺東縣', 4, '2023-05-04 12:00', 'μg/m3'],\n",
       " ['恆春', '屏東縣', 4, '2023-05-04 12:00', 'μg/m3'],\n",
       " ['潮州', '屏東縣', 8, '2023-05-04 12:00', 'μg/m3'],\n",
       " ['屏東', '屏東縣', 15, '2023-05-04 12:00', 'μg/m3'],\n",
       " ['小港', '高雄市', 23, '2023-05-04 12:00', 'μg/m3'],\n",
       " ['前金', '高雄市', 13, '2023-05-04 12:00', 'μg/m3'],\n",
       " ['左營', '高雄市', 13, '2023-05-04 12:00', 'μg/m3'],\n",
       " ['楠梓', '高雄市', 20, '2023-05-04 12:00', 'μg/m3'],\n",
       " ['林園', '高雄市', 15, '2023-05-04 12:00', 'μg/m3'],\n",
       " ['大寮', '高雄市', 20, '2023-05-04 12:00', 'μg/m3'],\n",
       " ['鳳山', '高雄市', 11, '2023-05-04 12:00', 'μg/m3'],\n",
       " ['仁武', '高雄市', 14, '2023-05-04 12:00', 'μg/m3'],\n",
       " ['橋頭', '高雄市', 19, '2023-05-04 12:00', 'μg/m3'],\n",
       " ['美濃', '高雄市', 11, '2023-05-04 12:00', 'μg/m3'],\n",
       " ['臺南', '臺南市', 19, '2023-05-04 12:00', 'μg/m3'],\n",
       " ['安南', '臺南市', 25, '2023-05-04 12:00', 'μg/m3'],\n",
       " ['善化', '臺南市', 14, '2023-05-04 12:00', 'μg/m3'],\n",
       " ['新營', '臺南市', 28, '2023-05-04 12:00', 'μg/m3'],\n",
       " ['嘉義', '嘉義市', 28, '2023-05-04 12:00', 'μg/m3'],\n",
       " ['臺西', '雲林縣', 13, '2023-05-04 12:00', 'μg/m3'],\n",
       " ['朴子', '嘉義縣', 24, '2023-05-04 12:00', 'μg/m3'],\n",
       " ['新港', '嘉義縣', 24, '2023-05-04 12:00', 'μg/m3'],\n",
       " ['崙背', '雲林縣', 21, '2023-05-04 12:00', 'μg/m3'],\n",
       " ['斗六', '雲林縣', 37, '2023-05-04 12:00', 'μg/m3'],\n",
       " ['南投', '南投縣', 30, '2023-05-04 12:00', 'μg/m3'],\n",
       " ['二林', '彰化縣', 13, '2023-05-04 12:00', 'μg/m3'],\n",
       " ['線西', '彰化縣', 18, '2023-05-04 12:00', 'μg/m3'],\n",
       " ['彰化', '彰化縣', 23, '2023-05-04 12:00', 'μg/m3'],\n",
       " ['西屯', '臺中市', 29, '2023-05-04 12:00', 'μg/m3'],\n",
       " ['忠明', '臺中市', 46, '2023-05-04 12:00', 'μg/m3'],\n",
       " ['大里', '臺中市', 38, '2023-05-04 12:00', 'μg/m3'],\n",
       " ['沙鹿', '臺中市', 15, '2023-05-04 12:00', 'μg/m3'],\n",
       " ['豐原', '臺中市', 31, '2023-05-04 12:00', 'μg/m3'],\n",
       " ['三義', '苗栗縣', 18, '2023-05-04 12:00', 'μg/m3'],\n",
       " ['苗栗', '苗栗縣', 9, '2023-05-04 12:00', 'μg/m3'],\n",
       " ['頭份', '苗栗縣', 14, '2023-05-04 12:00', 'μg/m3'],\n",
       " ['新竹', '新竹市', 9, '2023-05-04 12:00', 'μg/m3'],\n",
       " ['竹東', '新竹縣', 22, '2023-05-04 12:00', 'μg/m3'],\n",
       " ['湖口', '新竹縣', 11, '2023-05-04 12:00', 'μg/m3'],\n",
       " ['龍潭', '桃園市', 21, '2023-05-04 12:00', 'μg/m3'],\n",
       " ['平鎮', '桃園市', 13, '2023-05-04 12:00', 'μg/m3'],\n",
       " ['觀音', '桃園市', 14, '2023-05-04 12:00', 'μg/m3'],\n",
       " ['桃園', '桃園市', 21, '2023-05-04 12:00', 'μg/m3'],\n",
       " ['大同', '臺北市', 31, '2023-05-04 12:00', 'μg/m3'],\n",
       " ['松山', '臺北市', 30, '2023-05-04 12:00', 'μg/m3'],\n",
       " ['古亭', '臺北市', 45, '2023-05-04 12:00', 'μg/m3'],\n",
       " ['萬華', '臺北市', 40, '2023-05-04 12:00', 'μg/m3'],\n",
       " ['中山', '臺北市', 42, '2023-05-04 12:00', 'μg/m3'],\n",
       " ['士林', '臺北市', 25, '2023-05-04 12:00', 'μg/m3'],\n",
       " ['淡水', '新北市', 12, '2023-05-04 12:00', 'μg/m3'],\n",
       " ['林口', '新北市', 13, '2023-05-04 12:00', 'μg/m3'],\n",
       " ['菜寮', '新北市', 28, '2023-05-04 12:00', 'μg/m3'],\n",
       " ['新莊', '新北市', 23, '2023-05-04 12:00', 'μg/m3'],\n",
       " ['板橋', '新北市', 39, '2023-05-04 12:00', 'μg/m3'],\n",
       " ['土城', '新北市', 32, '2023-05-04 12:00', 'μg/m3'],\n",
       " ['新店', '新北市', 36, '2023-05-04 12:00', 'μg/m3'],\n",
       " ['萬里', '新北市', 15, '2023-05-04 12:00', 'μg/m3'],\n",
       " ['基隆', '基隆市', 29, '2023-05-04 12:00', 'μg/m3']]"
      ]
     },
     "execution_count": 11,
     "metadata": {},
     "output_type": "execute_result"
    }
   ],
   "source": [
    "# 組合內容\n",
    "values = []\n",
    "for data in datas:\n",
    "    data = list(data.values())\n",
    "    try:\n",
    "        data[2] = eval(data[2])\n",
    "        values.append(data)\n",
    "    except Exception as e:\n",
    "        print(e)\n",
    "values"
   ]
  },
  {
   "cell_type": "code",
   "execution_count": 12,
   "metadata": {},
   "outputs": [
    {
     "data": {
      "text/plain": [
       "'select * from data where site=\"基隆\" and datacreationdate=\"2023-05-04 12:00\"'"
      ]
     },
     "execution_count": 12,
     "metadata": {},
     "output_type": "execute_result"
    }
   ],
   "source": [
    "sqlstr=f'select * from data where site=\"{data[0]}\" and datacreationdate=\"{data[-2]}\"'\n",
    "sqlstr"
   ]
  },
  {
   "cell_type": "code",
   "execution_count": 13,
   "metadata": {
    "scrolled": true
   },
   "outputs": [
    {
     "data": {
      "text/plain": [
       "[(75, '基隆', '基隆市', 29, '2023-05-04 12:00', 'μg/m3')]"
      ]
     },
     "execution_count": 13,
     "metadata": {},
     "output_type": "execute_result"
    }
   ],
   "source": [
    "list(cursor.execute(sqlstr))"
   ]
  },
  {
   "cell_type": "code",
   "execution_count": 14,
   "metadata": {},
   "outputs": [
    {
     "data": {
      "text/plain": [
       "'insert into data(site,county,pm25,datacreationdate,itemunit) values(\"基隆\",\"基隆市\",    29,\"2023-05-04 12:00\",\"μg/m3\")'"
      ]
     },
     "execution_count": 14,
     "metadata": {},
     "output_type": "execute_result"
    }
   ],
   "source": [
    "sqlstr=f'insert into data(site,county,pm25,datacreationdate,itemunit) values(\"{data[0]}\",\"{data[1]}\",\\\n",
    "    {data[2]},\"{data[3]}\",\"{data[4]}\")'\n",
    "sqlstr"
   ]
  },
  {
   "cell_type": "markdown",
   "metadata": {},
   "source": [
    "### 寫入資料"
   ]
  },
  {
   "cell_type": "code",
   "execution_count": 15,
   "metadata": {},
   "outputs": [
    {
     "name": "stdout",
     "output_type": "stream",
     "text": [
      "更新:0筆資料.\n"
     ]
    }
   ],
   "source": [
    "# 組合內容\n",
    "count=0\n",
    "for data in datas:\n",
    "    data = list(data.values())\n",
    "    try:\n",
    "        data[2] = eval(data[2])\n",
    "        sqlstr=f'select * from data where site=\"{data[0]}\" and datacreationdate=\"{data[-2]}\"'\n",
    "        result=list(cursor.execute(sqlstr))    \n",
    "        if result==[]:\n",
    "            sqlstr=f'insert into data(site,county,pm25,datacreationdate,itemunit) values(\"{data[0]}\",\"{data[1]}\",\\\n",
    "            {data[2]},\"{data[3]}\",\"{data[4]}\")'\n",
    "            cursor.execute(sqlstr)\n",
    "            count+=1\n",
    "    except Exception as e:\n",
    "        pass\n",
    "        \n",
    "conn.commit()\n",
    "print(f'更新:{count}筆資料.')"
   ]
  },
  {
   "cell_type": "markdown",
   "metadata": {},
   "source": [
    "### 六都平均值"
   ]
  },
  {
   "cell_type": "code",
   "execution_count": 16,
   "metadata": {},
   "outputs": [],
   "source": [
    "import pandas as pd"
   ]
  },
  {
   "cell_type": "code",
   "execution_count": 17,
   "metadata": {},
   "outputs": [
    {
     "data": {
      "text/html": [
       "<div>\n",
       "<style scoped>\n",
       "    .dataframe tbody tr th:only-of-type {\n",
       "        vertical-align: middle;\n",
       "    }\n",
       "\n",
       "    .dataframe tbody tr th {\n",
       "        vertical-align: top;\n",
       "    }\n",
       "\n",
       "    .dataframe thead th {\n",
       "        text-align: right;\n",
       "    }\n",
       "</style>\n",
       "<table border=\"1\" class=\"dataframe\">\n",
       "  <thead>\n",
       "    <tr style=\"text-align: right;\">\n",
       "      <th></th>\n",
       "      <th>site</th>\n",
       "      <th>county</th>\n",
       "      <th>pm25</th>\n",
       "      <th>datacreationdate</th>\n",
       "      <th>itemunit</th>\n",
       "    </tr>\n",
       "  </thead>\n",
       "  <tbody>\n",
       "    <tr>\n",
       "      <th>0</th>\n",
       "      <td>大城</td>\n",
       "      <td>彰化縣</td>\n",
       "      <td>11</td>\n",
       "      <td>2023-05-04 12:00</td>\n",
       "      <td>μg/m3</td>\n",
       "    </tr>\n",
       "    <tr>\n",
       "      <th>1</th>\n",
       "      <td>富貴角</td>\n",
       "      <td>新北市</td>\n",
       "      <td>18</td>\n",
       "      <td>2023-05-04 12:00</td>\n",
       "      <td>μg/m3</td>\n",
       "    </tr>\n",
       "    <tr>\n",
       "      <th>2</th>\n",
       "      <td>麥寮</td>\n",
       "      <td>雲林縣</td>\n",
       "      <td>8</td>\n",
       "      <td>2023-05-04 12:00</td>\n",
       "      <td>μg/m3</td>\n",
       "    </tr>\n",
       "    <tr>\n",
       "      <th>3</th>\n",
       "      <td>關山</td>\n",
       "      <td>臺東縣</td>\n",
       "      <td>3</td>\n",
       "      <td>2023-05-04 12:00</td>\n",
       "      <td>μg/m3</td>\n",
       "    </tr>\n",
       "    <tr>\n",
       "      <th>4</th>\n",
       "      <td>馬公</td>\n",
       "      <td>澎湖縣</td>\n",
       "      <td>9</td>\n",
       "      <td>2023-05-04 12:00</td>\n",
       "      <td>μg/m3</td>\n",
       "    </tr>\n",
       "    <tr>\n",
       "      <th>...</th>\n",
       "      <td>...</td>\n",
       "      <td>...</td>\n",
       "      <td>...</td>\n",
       "      <td>...</td>\n",
       "      <td>...</td>\n",
       "    </tr>\n",
       "    <tr>\n",
       "      <th>73</th>\n",
       "      <td>土城</td>\n",
       "      <td>新北市</td>\n",
       "      <td>32</td>\n",
       "      <td>2023-05-04 12:00</td>\n",
       "      <td>μg/m3</td>\n",
       "    </tr>\n",
       "    <tr>\n",
       "      <th>74</th>\n",
       "      <td>新店</td>\n",
       "      <td>新北市</td>\n",
       "      <td>36</td>\n",
       "      <td>2023-05-04 12:00</td>\n",
       "      <td>μg/m3</td>\n",
       "    </tr>\n",
       "    <tr>\n",
       "      <th>75</th>\n",
       "      <td>萬里</td>\n",
       "      <td>新北市</td>\n",
       "      <td>15</td>\n",
       "      <td>2023-05-04 12:00</td>\n",
       "      <td>μg/m3</td>\n",
       "    </tr>\n",
       "    <tr>\n",
       "      <th>76</th>\n",
       "      <td>汐止</td>\n",
       "      <td>新北市</td>\n",
       "      <td></td>\n",
       "      <td>2023-05-04 12:00</td>\n",
       "      <td>μg/m3</td>\n",
       "    </tr>\n",
       "    <tr>\n",
       "      <th>77</th>\n",
       "      <td>基隆</td>\n",
       "      <td>基隆市</td>\n",
       "      <td>29</td>\n",
       "      <td>2023-05-04 12:00</td>\n",
       "      <td>μg/m3</td>\n",
       "    </tr>\n",
       "  </tbody>\n",
       "</table>\n",
       "<p>78 rows × 5 columns</p>\n",
       "</div>"
      ],
      "text/plain": [
       "   site county pm25  datacreationdate itemunit\n",
       "0    大城    彰化縣   11  2023-05-04 12:00    μg/m3\n",
       "1   富貴角    新北市   18  2023-05-04 12:00    μg/m3\n",
       "2    麥寮    雲林縣    8  2023-05-04 12:00    μg/m3\n",
       "3    關山    臺東縣    3  2023-05-04 12:00    μg/m3\n",
       "4    馬公    澎湖縣    9  2023-05-04 12:00    μg/m3\n",
       "..  ...    ...  ...               ...      ...\n",
       "73   土城    新北市   32  2023-05-04 12:00    μg/m3\n",
       "74   新店    新北市   36  2023-05-04 12:00    μg/m3\n",
       "75   萬里    新北市   15  2023-05-04 12:00    μg/m3\n",
       "76   汐止    新北市       2023-05-04 12:00    μg/m3\n",
       "77   基隆    基隆市   29  2023-05-04 12:00    μg/m3\n",
       "\n",
       "[78 rows x 5 columns]"
      ]
     },
     "execution_count": 17,
     "metadata": {},
     "output_type": "execute_result"
    }
   ],
   "source": [
    "df=pd.DataFrame(datas)\n",
    "df"
   ]
  },
  {
   "cell_type": "code",
   "execution_count": 18,
   "metadata": {},
   "outputs": [
    {
     "data": {
      "text/plain": [
       "{'南投縣',\n",
       " '嘉義市',\n",
       " '嘉義縣',\n",
       " '基隆市',\n",
       " '宜蘭縣',\n",
       " '屏東縣',\n",
       " '彰化縣',\n",
       " '新北市',\n",
       " '新竹市',\n",
       " '新竹縣',\n",
       " '桃園市',\n",
       " '澎湖縣',\n",
       " '臺中市',\n",
       " '臺北市',\n",
       " '臺南市',\n",
       " '臺東縣',\n",
       " '花蓮縣',\n",
       " '苗栗縣',\n",
       " '連江縣',\n",
       " '金門縣',\n",
       " '雲林縣',\n",
       " '高雄市'}"
      ]
     },
     "execution_count": 18,
     "metadata": {},
     "output_type": "execute_result"
    }
   ],
   "source": [
    "set(df['county'])"
   ]
  },
  {
   "cell_type": "code",
   "execution_count": 19,
   "metadata": {},
   "outputs": [],
   "source": [
    "six_countys=['臺北市','新北市','桃園市','臺中市','臺南市','高雄市']"
   ]
  },
  {
   "cell_type": "code",
   "execution_count": 20,
   "metadata": {},
   "outputs": [
    {
     "name": "stdout",
     "output_type": "stream",
     "text": [
      "<class 'pandas.core.frame.DataFrame'>\n",
      "RangeIndex: 78 entries, 0 to 77\n",
      "Data columns (total 5 columns):\n",
      " #   Column            Non-Null Count  Dtype \n",
      "---  ------            --------------  ----- \n",
      " 0   site              78 non-null     object\n",
      " 1   county            78 non-null     object\n",
      " 2   pm25              78 non-null     object\n",
      " 3   datacreationdate  78 non-null     object\n",
      " 4   itemunit          78 non-null     object\n",
      "dtypes: object(5)\n",
      "memory usage: 3.2+ KB\n"
     ]
    }
   ],
   "source": [
    "df.info()"
   ]
  },
  {
   "cell_type": "code",
   "execution_count": 21,
   "metadata": {},
   "outputs": [
    {
     "ename": "ValueError",
     "evalue": "invalid literal for int() with base 10: ''",
     "output_type": "error",
     "traceback": [
      "\u001b[1;31m---------------------------------------------------------------------------\u001b[0m",
      "\u001b[1;31mValueError\u001b[0m                                Traceback (most recent call last)",
      "\u001b[1;32m~\\AppData\\Local\\Temp\\ipykernel_41776\\1922287026.py\u001b[0m in \u001b[0;36m<module>\u001b[1;34m\u001b[0m\n\u001b[1;32m----> 1\u001b[1;33m \u001b[0mdf\u001b[0m\u001b[1;33m.\u001b[0m\u001b[0mgroupby\u001b[0m\u001b[1;33m(\u001b[0m\u001b[1;34m'county'\u001b[0m\u001b[1;33m)\u001b[0m\u001b[1;33m.\u001b[0m\u001b[0mget_group\u001b[0m\u001b[1;33m(\u001b[0m\u001b[0msix_countys\u001b[0m\u001b[1;33m[\u001b[0m\u001b[1;36m2\u001b[0m\u001b[1;33m]\u001b[0m\u001b[1;33m)\u001b[0m\u001b[1;33m[\u001b[0m\u001b[1;34m'pm25'\u001b[0m\u001b[1;33m]\u001b[0m\u001b[1;33m.\u001b[0m\u001b[0mastype\u001b[0m\u001b[1;33m(\u001b[0m\u001b[0mint\u001b[0m\u001b[1;33m)\u001b[0m\u001b[1;33m.\u001b[0m\u001b[0mmean\u001b[0m\u001b[1;33m(\u001b[0m\u001b[1;33m)\u001b[0m\u001b[1;33m\u001b[0m\u001b[1;33m\u001b[0m\u001b[0m\n\u001b[0m",
      "\u001b[1;32m~\\anaconda3\\lib\\site-packages\\pandas\\core\\generic.py\u001b[0m in \u001b[0;36mastype\u001b[1;34m(self, dtype, copy, errors)\u001b[0m\n\u001b[0;32m   5910\u001b[0m         \u001b[1;32melse\u001b[0m\u001b[1;33m:\u001b[0m\u001b[1;33m\u001b[0m\u001b[1;33m\u001b[0m\u001b[0m\n\u001b[0;32m   5911\u001b[0m             \u001b[1;31m# else, only a single dtype is given\u001b[0m\u001b[1;33m\u001b[0m\u001b[1;33m\u001b[0m\u001b[0m\n\u001b[1;32m-> 5912\u001b[1;33m             \u001b[0mnew_data\u001b[0m \u001b[1;33m=\u001b[0m \u001b[0mself\u001b[0m\u001b[1;33m.\u001b[0m\u001b[0m_mgr\u001b[0m\u001b[1;33m.\u001b[0m\u001b[0mastype\u001b[0m\u001b[1;33m(\u001b[0m\u001b[0mdtype\u001b[0m\u001b[1;33m=\u001b[0m\u001b[0mdtype\u001b[0m\u001b[1;33m,\u001b[0m \u001b[0mcopy\u001b[0m\u001b[1;33m=\u001b[0m\u001b[0mcopy\u001b[0m\u001b[1;33m,\u001b[0m \u001b[0merrors\u001b[0m\u001b[1;33m=\u001b[0m\u001b[0merrors\u001b[0m\u001b[1;33m)\u001b[0m\u001b[1;33m\u001b[0m\u001b[1;33m\u001b[0m\u001b[0m\n\u001b[0m\u001b[0;32m   5913\u001b[0m             \u001b[1;32mreturn\u001b[0m \u001b[0mself\u001b[0m\u001b[1;33m.\u001b[0m\u001b[0m_constructor\u001b[0m\u001b[1;33m(\u001b[0m\u001b[0mnew_data\u001b[0m\u001b[1;33m)\u001b[0m\u001b[1;33m.\u001b[0m\u001b[0m__finalize__\u001b[0m\u001b[1;33m(\u001b[0m\u001b[0mself\u001b[0m\u001b[1;33m,\u001b[0m \u001b[0mmethod\u001b[0m\u001b[1;33m=\u001b[0m\u001b[1;34m\"astype\"\u001b[0m\u001b[1;33m)\u001b[0m\u001b[1;33m\u001b[0m\u001b[1;33m\u001b[0m\u001b[0m\n\u001b[0;32m   5914\u001b[0m \u001b[1;33m\u001b[0m\u001b[0m\n",
      "\u001b[1;32m~\\anaconda3\\lib\\site-packages\\pandas\\core\\internals\\managers.py\u001b[0m in \u001b[0;36mastype\u001b[1;34m(self, dtype, copy, errors)\u001b[0m\n\u001b[0;32m    417\u001b[0m \u001b[1;33m\u001b[0m\u001b[0m\n\u001b[0;32m    418\u001b[0m     \u001b[1;32mdef\u001b[0m \u001b[0mastype\u001b[0m\u001b[1;33m(\u001b[0m\u001b[0mself\u001b[0m\u001b[1;33m:\u001b[0m \u001b[0mT\u001b[0m\u001b[1;33m,\u001b[0m \u001b[0mdtype\u001b[0m\u001b[1;33m,\u001b[0m \u001b[0mcopy\u001b[0m\u001b[1;33m:\u001b[0m \u001b[0mbool\u001b[0m \u001b[1;33m=\u001b[0m \u001b[1;32mFalse\u001b[0m\u001b[1;33m,\u001b[0m \u001b[0merrors\u001b[0m\u001b[1;33m:\u001b[0m \u001b[0mstr\u001b[0m \u001b[1;33m=\u001b[0m \u001b[1;34m\"raise\"\u001b[0m\u001b[1;33m)\u001b[0m \u001b[1;33m->\u001b[0m \u001b[0mT\u001b[0m\u001b[1;33m:\u001b[0m\u001b[1;33m\u001b[0m\u001b[1;33m\u001b[0m\u001b[0m\n\u001b[1;32m--> 419\u001b[1;33m         \u001b[1;32mreturn\u001b[0m \u001b[0mself\u001b[0m\u001b[1;33m.\u001b[0m\u001b[0mapply\u001b[0m\u001b[1;33m(\u001b[0m\u001b[1;34m\"astype\"\u001b[0m\u001b[1;33m,\u001b[0m \u001b[0mdtype\u001b[0m\u001b[1;33m=\u001b[0m\u001b[0mdtype\u001b[0m\u001b[1;33m,\u001b[0m \u001b[0mcopy\u001b[0m\u001b[1;33m=\u001b[0m\u001b[0mcopy\u001b[0m\u001b[1;33m,\u001b[0m \u001b[0merrors\u001b[0m\u001b[1;33m=\u001b[0m\u001b[0merrors\u001b[0m\u001b[1;33m)\u001b[0m\u001b[1;33m\u001b[0m\u001b[1;33m\u001b[0m\u001b[0m\n\u001b[0m\u001b[0;32m    420\u001b[0m \u001b[1;33m\u001b[0m\u001b[0m\n\u001b[0;32m    421\u001b[0m     def convert(\n",
      "\u001b[1;32m~\\anaconda3\\lib\\site-packages\\pandas\\core\\internals\\managers.py\u001b[0m in \u001b[0;36mapply\u001b[1;34m(self, f, align_keys, ignore_failures, **kwargs)\u001b[0m\n\u001b[0;32m    302\u001b[0m                     \u001b[0mapplied\u001b[0m \u001b[1;33m=\u001b[0m \u001b[0mb\u001b[0m\u001b[1;33m.\u001b[0m\u001b[0mapply\u001b[0m\u001b[1;33m(\u001b[0m\u001b[0mf\u001b[0m\u001b[1;33m,\u001b[0m \u001b[1;33m**\u001b[0m\u001b[0mkwargs\u001b[0m\u001b[1;33m)\u001b[0m\u001b[1;33m\u001b[0m\u001b[1;33m\u001b[0m\u001b[0m\n\u001b[0;32m    303\u001b[0m                 \u001b[1;32melse\u001b[0m\u001b[1;33m:\u001b[0m\u001b[1;33m\u001b[0m\u001b[1;33m\u001b[0m\u001b[0m\n\u001b[1;32m--> 304\u001b[1;33m                     \u001b[0mapplied\u001b[0m \u001b[1;33m=\u001b[0m \u001b[0mgetattr\u001b[0m\u001b[1;33m(\u001b[0m\u001b[0mb\u001b[0m\u001b[1;33m,\u001b[0m \u001b[0mf\u001b[0m\u001b[1;33m)\u001b[0m\u001b[1;33m(\u001b[0m\u001b[1;33m**\u001b[0m\u001b[0mkwargs\u001b[0m\u001b[1;33m)\u001b[0m\u001b[1;33m\u001b[0m\u001b[1;33m\u001b[0m\u001b[0m\n\u001b[0m\u001b[0;32m    305\u001b[0m             \u001b[1;32mexcept\u001b[0m \u001b[1;33m(\u001b[0m\u001b[0mTypeError\u001b[0m\u001b[1;33m,\u001b[0m \u001b[0mNotImplementedError\u001b[0m\u001b[1;33m)\u001b[0m\u001b[1;33m:\u001b[0m\u001b[1;33m\u001b[0m\u001b[1;33m\u001b[0m\u001b[0m\n\u001b[0;32m    306\u001b[0m                 \u001b[1;32mif\u001b[0m \u001b[1;32mnot\u001b[0m \u001b[0mignore_failures\u001b[0m\u001b[1;33m:\u001b[0m\u001b[1;33m\u001b[0m\u001b[1;33m\u001b[0m\u001b[0m\n",
      "\u001b[1;32m~\\anaconda3\\lib\\site-packages\\pandas\\core\\internals\\blocks.py\u001b[0m in \u001b[0;36mastype\u001b[1;34m(self, dtype, copy, errors)\u001b[0m\n\u001b[0;32m    578\u001b[0m         \u001b[0mvalues\u001b[0m \u001b[1;33m=\u001b[0m \u001b[0mself\u001b[0m\u001b[1;33m.\u001b[0m\u001b[0mvalues\u001b[0m\u001b[1;33m\u001b[0m\u001b[1;33m\u001b[0m\u001b[0m\n\u001b[0;32m    579\u001b[0m \u001b[1;33m\u001b[0m\u001b[0m\n\u001b[1;32m--> 580\u001b[1;33m         \u001b[0mnew_values\u001b[0m \u001b[1;33m=\u001b[0m \u001b[0mastype_array_safe\u001b[0m\u001b[1;33m(\u001b[0m\u001b[0mvalues\u001b[0m\u001b[1;33m,\u001b[0m \u001b[0mdtype\u001b[0m\u001b[1;33m,\u001b[0m \u001b[0mcopy\u001b[0m\u001b[1;33m=\u001b[0m\u001b[0mcopy\u001b[0m\u001b[1;33m,\u001b[0m \u001b[0merrors\u001b[0m\u001b[1;33m=\u001b[0m\u001b[0merrors\u001b[0m\u001b[1;33m)\u001b[0m\u001b[1;33m\u001b[0m\u001b[1;33m\u001b[0m\u001b[0m\n\u001b[0m\u001b[0;32m    581\u001b[0m \u001b[1;33m\u001b[0m\u001b[0m\n\u001b[0;32m    582\u001b[0m         \u001b[0mnew_values\u001b[0m \u001b[1;33m=\u001b[0m \u001b[0mmaybe_coerce_values\u001b[0m\u001b[1;33m(\u001b[0m\u001b[0mnew_values\u001b[0m\u001b[1;33m)\u001b[0m\u001b[1;33m\u001b[0m\u001b[1;33m\u001b[0m\u001b[0m\n",
      "\u001b[1;32m~\\anaconda3\\lib\\site-packages\\pandas\\core\\dtypes\\cast.py\u001b[0m in \u001b[0;36mastype_array_safe\u001b[1;34m(values, dtype, copy, errors)\u001b[0m\n\u001b[0;32m   1290\u001b[0m \u001b[1;33m\u001b[0m\u001b[0m\n\u001b[0;32m   1291\u001b[0m     \u001b[1;32mtry\u001b[0m\u001b[1;33m:\u001b[0m\u001b[1;33m\u001b[0m\u001b[1;33m\u001b[0m\u001b[0m\n\u001b[1;32m-> 1292\u001b[1;33m         \u001b[0mnew_values\u001b[0m \u001b[1;33m=\u001b[0m \u001b[0mastype_array\u001b[0m\u001b[1;33m(\u001b[0m\u001b[0mvalues\u001b[0m\u001b[1;33m,\u001b[0m \u001b[0mdtype\u001b[0m\u001b[1;33m,\u001b[0m \u001b[0mcopy\u001b[0m\u001b[1;33m=\u001b[0m\u001b[0mcopy\u001b[0m\u001b[1;33m)\u001b[0m\u001b[1;33m\u001b[0m\u001b[1;33m\u001b[0m\u001b[0m\n\u001b[0m\u001b[0;32m   1293\u001b[0m     \u001b[1;32mexcept\u001b[0m \u001b[1;33m(\u001b[0m\u001b[0mValueError\u001b[0m\u001b[1;33m,\u001b[0m \u001b[0mTypeError\u001b[0m\u001b[1;33m)\u001b[0m\u001b[1;33m:\u001b[0m\u001b[1;33m\u001b[0m\u001b[1;33m\u001b[0m\u001b[0m\n\u001b[0;32m   1294\u001b[0m         \u001b[1;31m# e.g. astype_nansafe can fail on object-dtype of strings\u001b[0m\u001b[1;33m\u001b[0m\u001b[1;33m\u001b[0m\u001b[0m\n",
      "\u001b[1;32m~\\anaconda3\\lib\\site-packages\\pandas\\core\\dtypes\\cast.py\u001b[0m in \u001b[0;36mastype_array\u001b[1;34m(values, dtype, copy)\u001b[0m\n\u001b[0;32m   1235\u001b[0m \u001b[1;33m\u001b[0m\u001b[0m\n\u001b[0;32m   1236\u001b[0m     \u001b[1;32melse\u001b[0m\u001b[1;33m:\u001b[0m\u001b[1;33m\u001b[0m\u001b[1;33m\u001b[0m\u001b[0m\n\u001b[1;32m-> 1237\u001b[1;33m         \u001b[0mvalues\u001b[0m \u001b[1;33m=\u001b[0m \u001b[0mastype_nansafe\u001b[0m\u001b[1;33m(\u001b[0m\u001b[0mvalues\u001b[0m\u001b[1;33m,\u001b[0m \u001b[0mdtype\u001b[0m\u001b[1;33m,\u001b[0m \u001b[0mcopy\u001b[0m\u001b[1;33m=\u001b[0m\u001b[0mcopy\u001b[0m\u001b[1;33m)\u001b[0m\u001b[1;33m\u001b[0m\u001b[1;33m\u001b[0m\u001b[0m\n\u001b[0m\u001b[0;32m   1238\u001b[0m \u001b[1;33m\u001b[0m\u001b[0m\n\u001b[0;32m   1239\u001b[0m     \u001b[1;31m# in pandas we don't store numpy str dtypes, so convert to object\u001b[0m\u001b[1;33m\u001b[0m\u001b[1;33m\u001b[0m\u001b[0m\n",
      "\u001b[1;32m~\\anaconda3\\lib\\site-packages\\pandas\\core\\dtypes\\cast.py\u001b[0m in \u001b[0;36mastype_nansafe\u001b[1;34m(arr, dtype, copy, skipna)\u001b[0m\n\u001b[0;32m   1152\u001b[0m         \u001b[1;31m# work around NumPy brokenness, #1987\u001b[0m\u001b[1;33m\u001b[0m\u001b[1;33m\u001b[0m\u001b[0m\n\u001b[0;32m   1153\u001b[0m         \u001b[1;32mif\u001b[0m \u001b[0mnp\u001b[0m\u001b[1;33m.\u001b[0m\u001b[0missubdtype\u001b[0m\u001b[1;33m(\u001b[0m\u001b[0mdtype\u001b[0m\u001b[1;33m.\u001b[0m\u001b[0mtype\u001b[0m\u001b[1;33m,\u001b[0m \u001b[0mnp\u001b[0m\u001b[1;33m.\u001b[0m\u001b[0minteger\u001b[0m\u001b[1;33m)\u001b[0m\u001b[1;33m:\u001b[0m\u001b[1;33m\u001b[0m\u001b[1;33m\u001b[0m\u001b[0m\n\u001b[1;32m-> 1154\u001b[1;33m             \u001b[1;32mreturn\u001b[0m \u001b[0mlib\u001b[0m\u001b[1;33m.\u001b[0m\u001b[0mastype_intsafe\u001b[0m\u001b[1;33m(\u001b[0m\u001b[0marr\u001b[0m\u001b[1;33m,\u001b[0m \u001b[0mdtype\u001b[0m\u001b[1;33m)\u001b[0m\u001b[1;33m\u001b[0m\u001b[1;33m\u001b[0m\u001b[0m\n\u001b[0m\u001b[0;32m   1155\u001b[0m \u001b[1;33m\u001b[0m\u001b[0m\n\u001b[0;32m   1156\u001b[0m         \u001b[1;31m# if we have a datetime/timedelta array of objects\u001b[0m\u001b[1;33m\u001b[0m\u001b[1;33m\u001b[0m\u001b[0m\n",
      "\u001b[1;32m~\\anaconda3\\lib\\site-packages\\pandas\\_libs\\lib.pyx\u001b[0m in \u001b[0;36mpandas._libs.lib.astype_intsafe\u001b[1;34m()\u001b[0m\n",
      "\u001b[1;31mValueError\u001b[0m: invalid literal for int() with base 10: ''"
     ]
    }
   ],
   "source": [
    "df.groupby('county').get_group(six_countys[2])['pm25'].astype(int).mean()"
   ]
  },
  {
   "cell_type": "code",
   "execution_count": 22,
   "metadata": {},
   "outputs": [
    {
     "ename": "ValueError",
     "evalue": "invalid literal for int() with base 10: ''",
     "output_type": "error",
     "traceback": [
      "\u001b[1;31m---------------------------------------------------------------------------\u001b[0m",
      "\u001b[1;31mValueError\u001b[0m                                Traceback (most recent call last)",
      "\u001b[1;32m~\\AppData\\Local\\Temp\\ipykernel_41776\\493926721.py\u001b[0m in \u001b[0;36m<module>\u001b[1;34m\u001b[0m\n\u001b[0;32m      2\u001b[0m \u001b[1;33m\u001b[0m\u001b[0m\n\u001b[0;32m      3\u001b[0m \u001b[1;32mfor\u001b[0m \u001b[0mcounty\u001b[0m \u001b[1;32min\u001b[0m \u001b[0msix_countys\u001b[0m\u001b[1;33m:\u001b[0m\u001b[1;33m\u001b[0m\u001b[1;33m\u001b[0m\u001b[0m\n\u001b[1;32m----> 4\u001b[1;33m     \u001b[0msix_pm25\u001b[0m\u001b[1;33m[\u001b[0m\u001b[0mcounty\u001b[0m\u001b[1;33m]\u001b[0m\u001b[1;33m=\u001b[0m\u001b[0mround\u001b[0m\u001b[1;33m(\u001b[0m\u001b[0mdf\u001b[0m\u001b[1;33m.\u001b[0m\u001b[0mgroupby\u001b[0m\u001b[1;33m(\u001b[0m\u001b[1;34m'county'\u001b[0m\u001b[1;33m)\u001b[0m\u001b[1;33m.\u001b[0m\u001b[0mget_group\u001b[0m\u001b[1;33m(\u001b[0m\u001b[0mcounty\u001b[0m\u001b[1;33m)\u001b[0m\u001b[1;33m[\u001b[0m\u001b[1;34m'pm25'\u001b[0m\u001b[1;33m]\u001b[0m\u001b[1;33m.\u001b[0m\u001b[0mastype\u001b[0m\u001b[1;33m(\u001b[0m\u001b[0mint\u001b[0m\u001b[1;33m)\u001b[0m\u001b[1;33m.\u001b[0m\u001b[0mmean\u001b[0m\u001b[1;33m(\u001b[0m\u001b[1;33m)\u001b[0m\u001b[1;33m,\u001b[0m\u001b[1;36m1\u001b[0m\u001b[1;33m)\u001b[0m\u001b[1;33m\u001b[0m\u001b[1;33m\u001b[0m\u001b[0m\n\u001b[0m\u001b[0;32m      5\u001b[0m \u001b[1;33m\u001b[0m\u001b[0m\n\u001b[0;32m      6\u001b[0m \u001b[0msix_pm25\u001b[0m\u001b[1;33m\u001b[0m\u001b[1;33m\u001b[0m\u001b[0m\n",
      "\u001b[1;32m~\\anaconda3\\lib\\site-packages\\pandas\\core\\generic.py\u001b[0m in \u001b[0;36mastype\u001b[1;34m(self, dtype, copy, errors)\u001b[0m\n\u001b[0;32m   5910\u001b[0m         \u001b[1;32melse\u001b[0m\u001b[1;33m:\u001b[0m\u001b[1;33m\u001b[0m\u001b[1;33m\u001b[0m\u001b[0m\n\u001b[0;32m   5911\u001b[0m             \u001b[1;31m# else, only a single dtype is given\u001b[0m\u001b[1;33m\u001b[0m\u001b[1;33m\u001b[0m\u001b[0m\n\u001b[1;32m-> 5912\u001b[1;33m             \u001b[0mnew_data\u001b[0m \u001b[1;33m=\u001b[0m \u001b[0mself\u001b[0m\u001b[1;33m.\u001b[0m\u001b[0m_mgr\u001b[0m\u001b[1;33m.\u001b[0m\u001b[0mastype\u001b[0m\u001b[1;33m(\u001b[0m\u001b[0mdtype\u001b[0m\u001b[1;33m=\u001b[0m\u001b[0mdtype\u001b[0m\u001b[1;33m,\u001b[0m \u001b[0mcopy\u001b[0m\u001b[1;33m=\u001b[0m\u001b[0mcopy\u001b[0m\u001b[1;33m,\u001b[0m \u001b[0merrors\u001b[0m\u001b[1;33m=\u001b[0m\u001b[0merrors\u001b[0m\u001b[1;33m)\u001b[0m\u001b[1;33m\u001b[0m\u001b[1;33m\u001b[0m\u001b[0m\n\u001b[0m\u001b[0;32m   5913\u001b[0m             \u001b[1;32mreturn\u001b[0m \u001b[0mself\u001b[0m\u001b[1;33m.\u001b[0m\u001b[0m_constructor\u001b[0m\u001b[1;33m(\u001b[0m\u001b[0mnew_data\u001b[0m\u001b[1;33m)\u001b[0m\u001b[1;33m.\u001b[0m\u001b[0m__finalize__\u001b[0m\u001b[1;33m(\u001b[0m\u001b[0mself\u001b[0m\u001b[1;33m,\u001b[0m \u001b[0mmethod\u001b[0m\u001b[1;33m=\u001b[0m\u001b[1;34m\"astype\"\u001b[0m\u001b[1;33m)\u001b[0m\u001b[1;33m\u001b[0m\u001b[1;33m\u001b[0m\u001b[0m\n\u001b[0;32m   5914\u001b[0m \u001b[1;33m\u001b[0m\u001b[0m\n",
      "\u001b[1;32m~\\anaconda3\\lib\\site-packages\\pandas\\core\\internals\\managers.py\u001b[0m in \u001b[0;36mastype\u001b[1;34m(self, dtype, copy, errors)\u001b[0m\n\u001b[0;32m    417\u001b[0m \u001b[1;33m\u001b[0m\u001b[0m\n\u001b[0;32m    418\u001b[0m     \u001b[1;32mdef\u001b[0m \u001b[0mastype\u001b[0m\u001b[1;33m(\u001b[0m\u001b[0mself\u001b[0m\u001b[1;33m:\u001b[0m \u001b[0mT\u001b[0m\u001b[1;33m,\u001b[0m \u001b[0mdtype\u001b[0m\u001b[1;33m,\u001b[0m \u001b[0mcopy\u001b[0m\u001b[1;33m:\u001b[0m \u001b[0mbool\u001b[0m \u001b[1;33m=\u001b[0m \u001b[1;32mFalse\u001b[0m\u001b[1;33m,\u001b[0m \u001b[0merrors\u001b[0m\u001b[1;33m:\u001b[0m \u001b[0mstr\u001b[0m \u001b[1;33m=\u001b[0m \u001b[1;34m\"raise\"\u001b[0m\u001b[1;33m)\u001b[0m \u001b[1;33m->\u001b[0m \u001b[0mT\u001b[0m\u001b[1;33m:\u001b[0m\u001b[1;33m\u001b[0m\u001b[1;33m\u001b[0m\u001b[0m\n\u001b[1;32m--> 419\u001b[1;33m         \u001b[1;32mreturn\u001b[0m \u001b[0mself\u001b[0m\u001b[1;33m.\u001b[0m\u001b[0mapply\u001b[0m\u001b[1;33m(\u001b[0m\u001b[1;34m\"astype\"\u001b[0m\u001b[1;33m,\u001b[0m \u001b[0mdtype\u001b[0m\u001b[1;33m=\u001b[0m\u001b[0mdtype\u001b[0m\u001b[1;33m,\u001b[0m \u001b[0mcopy\u001b[0m\u001b[1;33m=\u001b[0m\u001b[0mcopy\u001b[0m\u001b[1;33m,\u001b[0m \u001b[0merrors\u001b[0m\u001b[1;33m=\u001b[0m\u001b[0merrors\u001b[0m\u001b[1;33m)\u001b[0m\u001b[1;33m\u001b[0m\u001b[1;33m\u001b[0m\u001b[0m\n\u001b[0m\u001b[0;32m    420\u001b[0m \u001b[1;33m\u001b[0m\u001b[0m\n\u001b[0;32m    421\u001b[0m     def convert(\n",
      "\u001b[1;32m~\\anaconda3\\lib\\site-packages\\pandas\\core\\internals\\managers.py\u001b[0m in \u001b[0;36mapply\u001b[1;34m(self, f, align_keys, ignore_failures, **kwargs)\u001b[0m\n\u001b[0;32m    302\u001b[0m                     \u001b[0mapplied\u001b[0m \u001b[1;33m=\u001b[0m \u001b[0mb\u001b[0m\u001b[1;33m.\u001b[0m\u001b[0mapply\u001b[0m\u001b[1;33m(\u001b[0m\u001b[0mf\u001b[0m\u001b[1;33m,\u001b[0m \u001b[1;33m**\u001b[0m\u001b[0mkwargs\u001b[0m\u001b[1;33m)\u001b[0m\u001b[1;33m\u001b[0m\u001b[1;33m\u001b[0m\u001b[0m\n\u001b[0;32m    303\u001b[0m                 \u001b[1;32melse\u001b[0m\u001b[1;33m:\u001b[0m\u001b[1;33m\u001b[0m\u001b[1;33m\u001b[0m\u001b[0m\n\u001b[1;32m--> 304\u001b[1;33m                     \u001b[0mapplied\u001b[0m \u001b[1;33m=\u001b[0m \u001b[0mgetattr\u001b[0m\u001b[1;33m(\u001b[0m\u001b[0mb\u001b[0m\u001b[1;33m,\u001b[0m \u001b[0mf\u001b[0m\u001b[1;33m)\u001b[0m\u001b[1;33m(\u001b[0m\u001b[1;33m**\u001b[0m\u001b[0mkwargs\u001b[0m\u001b[1;33m)\u001b[0m\u001b[1;33m\u001b[0m\u001b[1;33m\u001b[0m\u001b[0m\n\u001b[0m\u001b[0;32m    305\u001b[0m             \u001b[1;32mexcept\u001b[0m \u001b[1;33m(\u001b[0m\u001b[0mTypeError\u001b[0m\u001b[1;33m,\u001b[0m \u001b[0mNotImplementedError\u001b[0m\u001b[1;33m)\u001b[0m\u001b[1;33m:\u001b[0m\u001b[1;33m\u001b[0m\u001b[1;33m\u001b[0m\u001b[0m\n\u001b[0;32m    306\u001b[0m                 \u001b[1;32mif\u001b[0m \u001b[1;32mnot\u001b[0m \u001b[0mignore_failures\u001b[0m\u001b[1;33m:\u001b[0m\u001b[1;33m\u001b[0m\u001b[1;33m\u001b[0m\u001b[0m\n",
      "\u001b[1;32m~\\anaconda3\\lib\\site-packages\\pandas\\core\\internals\\blocks.py\u001b[0m in \u001b[0;36mastype\u001b[1;34m(self, dtype, copy, errors)\u001b[0m\n\u001b[0;32m    578\u001b[0m         \u001b[0mvalues\u001b[0m \u001b[1;33m=\u001b[0m \u001b[0mself\u001b[0m\u001b[1;33m.\u001b[0m\u001b[0mvalues\u001b[0m\u001b[1;33m\u001b[0m\u001b[1;33m\u001b[0m\u001b[0m\n\u001b[0;32m    579\u001b[0m \u001b[1;33m\u001b[0m\u001b[0m\n\u001b[1;32m--> 580\u001b[1;33m         \u001b[0mnew_values\u001b[0m \u001b[1;33m=\u001b[0m \u001b[0mastype_array_safe\u001b[0m\u001b[1;33m(\u001b[0m\u001b[0mvalues\u001b[0m\u001b[1;33m,\u001b[0m \u001b[0mdtype\u001b[0m\u001b[1;33m,\u001b[0m \u001b[0mcopy\u001b[0m\u001b[1;33m=\u001b[0m\u001b[0mcopy\u001b[0m\u001b[1;33m,\u001b[0m \u001b[0merrors\u001b[0m\u001b[1;33m=\u001b[0m\u001b[0merrors\u001b[0m\u001b[1;33m)\u001b[0m\u001b[1;33m\u001b[0m\u001b[1;33m\u001b[0m\u001b[0m\n\u001b[0m\u001b[0;32m    581\u001b[0m \u001b[1;33m\u001b[0m\u001b[0m\n\u001b[0;32m    582\u001b[0m         \u001b[0mnew_values\u001b[0m \u001b[1;33m=\u001b[0m \u001b[0mmaybe_coerce_values\u001b[0m\u001b[1;33m(\u001b[0m\u001b[0mnew_values\u001b[0m\u001b[1;33m)\u001b[0m\u001b[1;33m\u001b[0m\u001b[1;33m\u001b[0m\u001b[0m\n",
      "\u001b[1;32m~\\anaconda3\\lib\\site-packages\\pandas\\core\\dtypes\\cast.py\u001b[0m in \u001b[0;36mastype_array_safe\u001b[1;34m(values, dtype, copy, errors)\u001b[0m\n\u001b[0;32m   1290\u001b[0m \u001b[1;33m\u001b[0m\u001b[0m\n\u001b[0;32m   1291\u001b[0m     \u001b[1;32mtry\u001b[0m\u001b[1;33m:\u001b[0m\u001b[1;33m\u001b[0m\u001b[1;33m\u001b[0m\u001b[0m\n\u001b[1;32m-> 1292\u001b[1;33m         \u001b[0mnew_values\u001b[0m \u001b[1;33m=\u001b[0m \u001b[0mastype_array\u001b[0m\u001b[1;33m(\u001b[0m\u001b[0mvalues\u001b[0m\u001b[1;33m,\u001b[0m \u001b[0mdtype\u001b[0m\u001b[1;33m,\u001b[0m \u001b[0mcopy\u001b[0m\u001b[1;33m=\u001b[0m\u001b[0mcopy\u001b[0m\u001b[1;33m)\u001b[0m\u001b[1;33m\u001b[0m\u001b[1;33m\u001b[0m\u001b[0m\n\u001b[0m\u001b[0;32m   1293\u001b[0m     \u001b[1;32mexcept\u001b[0m \u001b[1;33m(\u001b[0m\u001b[0mValueError\u001b[0m\u001b[1;33m,\u001b[0m \u001b[0mTypeError\u001b[0m\u001b[1;33m)\u001b[0m\u001b[1;33m:\u001b[0m\u001b[1;33m\u001b[0m\u001b[1;33m\u001b[0m\u001b[0m\n\u001b[0;32m   1294\u001b[0m         \u001b[1;31m# e.g. astype_nansafe can fail on object-dtype of strings\u001b[0m\u001b[1;33m\u001b[0m\u001b[1;33m\u001b[0m\u001b[0m\n",
      "\u001b[1;32m~\\anaconda3\\lib\\site-packages\\pandas\\core\\dtypes\\cast.py\u001b[0m in \u001b[0;36mastype_array\u001b[1;34m(values, dtype, copy)\u001b[0m\n\u001b[0;32m   1235\u001b[0m \u001b[1;33m\u001b[0m\u001b[0m\n\u001b[0;32m   1236\u001b[0m     \u001b[1;32melse\u001b[0m\u001b[1;33m:\u001b[0m\u001b[1;33m\u001b[0m\u001b[1;33m\u001b[0m\u001b[0m\n\u001b[1;32m-> 1237\u001b[1;33m         \u001b[0mvalues\u001b[0m \u001b[1;33m=\u001b[0m \u001b[0mastype_nansafe\u001b[0m\u001b[1;33m(\u001b[0m\u001b[0mvalues\u001b[0m\u001b[1;33m,\u001b[0m \u001b[0mdtype\u001b[0m\u001b[1;33m,\u001b[0m \u001b[0mcopy\u001b[0m\u001b[1;33m=\u001b[0m\u001b[0mcopy\u001b[0m\u001b[1;33m)\u001b[0m\u001b[1;33m\u001b[0m\u001b[1;33m\u001b[0m\u001b[0m\n\u001b[0m\u001b[0;32m   1238\u001b[0m \u001b[1;33m\u001b[0m\u001b[0m\n\u001b[0;32m   1239\u001b[0m     \u001b[1;31m# in pandas we don't store numpy str dtypes, so convert to object\u001b[0m\u001b[1;33m\u001b[0m\u001b[1;33m\u001b[0m\u001b[0m\n",
      "\u001b[1;32m~\\anaconda3\\lib\\site-packages\\pandas\\core\\dtypes\\cast.py\u001b[0m in \u001b[0;36mastype_nansafe\u001b[1;34m(arr, dtype, copy, skipna)\u001b[0m\n\u001b[0;32m   1152\u001b[0m         \u001b[1;31m# work around NumPy brokenness, #1987\u001b[0m\u001b[1;33m\u001b[0m\u001b[1;33m\u001b[0m\u001b[0m\n\u001b[0;32m   1153\u001b[0m         \u001b[1;32mif\u001b[0m \u001b[0mnp\u001b[0m\u001b[1;33m.\u001b[0m\u001b[0missubdtype\u001b[0m\u001b[1;33m(\u001b[0m\u001b[0mdtype\u001b[0m\u001b[1;33m.\u001b[0m\u001b[0mtype\u001b[0m\u001b[1;33m,\u001b[0m \u001b[0mnp\u001b[0m\u001b[1;33m.\u001b[0m\u001b[0minteger\u001b[0m\u001b[1;33m)\u001b[0m\u001b[1;33m:\u001b[0m\u001b[1;33m\u001b[0m\u001b[1;33m\u001b[0m\u001b[0m\n\u001b[1;32m-> 1154\u001b[1;33m             \u001b[1;32mreturn\u001b[0m \u001b[0mlib\u001b[0m\u001b[1;33m.\u001b[0m\u001b[0mastype_intsafe\u001b[0m\u001b[1;33m(\u001b[0m\u001b[0marr\u001b[0m\u001b[1;33m,\u001b[0m \u001b[0mdtype\u001b[0m\u001b[1;33m)\u001b[0m\u001b[1;33m\u001b[0m\u001b[1;33m\u001b[0m\u001b[0m\n\u001b[0m\u001b[0;32m   1155\u001b[0m \u001b[1;33m\u001b[0m\u001b[0m\n\u001b[0;32m   1156\u001b[0m         \u001b[1;31m# if we have a datetime/timedelta array of objects\u001b[0m\u001b[1;33m\u001b[0m\u001b[1;33m\u001b[0m\u001b[0m\n",
      "\u001b[1;32m~\\anaconda3\\lib\\site-packages\\pandas\\_libs\\lib.pyx\u001b[0m in \u001b[0;36mpandas._libs.lib.astype_intsafe\u001b[1;34m()\u001b[0m\n",
      "\u001b[1;31mValueError\u001b[0m: invalid literal for int() with base 10: ''"
     ]
    }
   ],
   "source": [
    "six_pm25={}\n",
    "\n",
    "for county in six_countys:\n",
    "    six_pm25[county]=round(df.groupby('county').get_group(county)['pm25'].astype(int).mean(),1)\n",
    "    \n",
    "six_pm25"
   ]
  },
  {
   "cell_type": "markdown",
   "metadata": {},
   "source": [
    "### 每個縣市站點資訊"
   ]
  },
  {
   "cell_type": "code",
   "execution_count": 23,
   "metadata": {},
   "outputs": [
    {
     "name": "stdout",
     "output_type": "stream",
     "text": [
      "['臺中市', '臺東縣', '高雄市', '彰化縣', '金門縣', '新竹縣', '新北市', '嘉義市', '新竹市', '基隆市', '苗栗縣', '臺北市', '連江縣', '宜蘭縣', '桃園市', '澎湖縣', '嘉義縣', '雲林縣', '臺南市', '屏東縣', '南投縣', '花蓮縣']\n"
     ]
    }
   ],
   "source": [
    "print(list(set(df['county'])))"
   ]
  },
  {
   "cell_type": "code",
   "execution_count": 24,
   "metadata": {},
   "outputs": [
    {
     "data": {
      "text/plain": [
       "[['富貴角', '18'],\n",
       " ['永和', '41'],\n",
       " ['三重', '26'],\n",
       " ['淡水', '12'],\n",
       " ['林口', '13'],\n",
       " ['菜寮', '28'],\n",
       " ['新莊', '23'],\n",
       " ['板橋', '39'],\n",
       " ['土城', '32'],\n",
       " ['新店', '36'],\n",
       " ['萬里', '15'],\n",
       " ['汐止', '']]"
      ]
     },
     "execution_count": 24,
     "metadata": {},
     "output_type": "execute_result"
    }
   ],
   "source": [
    "df.groupby('county').get_group('新北市')[['site','pm25']].values.tolist()"
   ]
  },
  {
   "cell_type": "code",
   "execution_count": null,
   "metadata": {},
   "outputs": [],
   "source": []
  }
 ],
 "metadata": {
  "kernelspec": {
   "display_name": "Python 3 (ipykernel)",
   "language": "python",
   "name": "python3"
  },
  "language_info": {
   "codemirror_mode": {
    "name": "ipython",
    "version": 3
   },
   "file_extension": ".py",
   "mimetype": "text/x-python",
   "name": "python",
   "nbconvert_exporter": "python",
   "pygments_lexer": "ipython3",
   "version": "3.9.7"
  }
 },
 "nbformat": 4,
 "nbformat_minor": 2
}
